{
 "cells": [
  {
   "cell_type": "code",
   "execution_count": 1,
   "id": "1c03b64d-e85e-4a2c-aa3a-b95561ab4c66",
   "metadata": {},
   "outputs": [],
   "source": [
    "# importing required libraries\n",
    "import pandas as pd\n",
    "import numpy as np\n",
    "import seaborn as sns\n",
    "import matplotlib.pyplot as plt\n",
    "\n",
    "import sklearn\n",
    "from sklearn.linear_model import LogisticRegression\n",
    "from sklearn import metrics\n",
    "from sklearn.preprocessing import StandardScaler\n",
    "from sklearn.model_selection import train_test_split\n",
    "\n",
    "from sklearn.pipeline import Pipeline,make_pipeline\n",
    "from sklearn.compose import ColumnTransformer\n",
    "from sklearn.impute import SimpleImputer\n",
    "from category_encoders import TargetEncoder\n",
    "from sklearn.preprocessing import OneHotEncoder\n",
    "\n",
    "from sklearn.metrics import f1_score"
   ]
  },
  {
   "cell_type": "code",
   "execution_count": 2,
   "id": "3303284d-3ec8-4473-9891-76bd7ba4d91f",
   "metadata": {},
   "outputs": [],
   "source": [
    "# reading the data\n",
    "df = pd.read_csv(\"data/customer_data_engineered_features.csv\")"
   ]
  },
  {
   "cell_type": "code",
   "execution_count": 3,
   "id": "a8861220-c541-4b0d-a81c-d0919199988a",
   "metadata": {},
   "outputs": [
    {
     "data": {
      "text/html": [
       "<div>\n",
       "<style scoped>\n",
       "    .dataframe tbody tr th:only-of-type {\n",
       "        vertical-align: middle;\n",
       "    }\n",
       "\n",
       "    .dataframe tbody tr th {\n",
       "        vertical-align: top;\n",
       "    }\n",
       "\n",
       "    .dataframe thead th {\n",
       "        text-align: right;\n",
       "    }\n",
       "</style>\n",
       "<table border=\"1\" class=\"dataframe\">\n",
       "  <thead>\n",
       "    <tr style=\"text-align: right;\">\n",
       "      <th></th>\n",
       "      <th>Category</th>\n",
       "      <th>SubCategory</th>\n",
       "      <th>Label</th>\n",
       "      <th>days_active</th>\n",
       "      <th>R</th>\n",
       "      <th>F</th>\n",
       "      <th>M</th>\n",
       "      <th>Loyalty</th>\n",
       "      <th>Avg Purchase Gap</th>\n",
       "      <th>add_to_cart_to_purchase_ratios</th>\n",
       "      <th>...</th>\n",
       "      <th>click_wishlist_page_to_purchase_ratios</th>\n",
       "      <th>user_path</th>\n",
       "      <th>cart_to_purchase_ratios_category</th>\n",
       "      <th>cart_to_purchase_ratios_subcategory</th>\n",
       "      <th>wishlist_to_purchase_ratios_category</th>\n",
       "      <th>wishlist_to_purchase_ratios_subcategory</th>\n",
       "      <th>click_wishlist_to_purchase_ratios_category</th>\n",
       "      <th>click_wishlist_to_purchase_ratios_subcategory</th>\n",
       "      <th>product_view_to_purchase_ratios_category</th>\n",
       "      <th>product_view_to_purchase_ratios_subcategory</th>\n",
       "    </tr>\n",
       "  </thead>\n",
       "  <tbody>\n",
       "    <tr>\n",
       "      <th>0</th>\n",
       "      <td>Camera Accessories</td>\n",
       "      <td>Camera Bag</td>\n",
       "      <td>1</td>\n",
       "      <td>3</td>\n",
       "      <td>4.0</td>\n",
       "      <td>4.0</td>\n",
       "      <td>4.0</td>\n",
       "      <td>Platinum</td>\n",
       "      <td>184.0</td>\n",
       "      <td>1.0</td>\n",
       "      <td>...</td>\n",
       "      <td>2.0</td>\n",
       "      <td>others</td>\n",
       "      <td>0.300000</td>\n",
       "      <td>1.0</td>\n",
       "      <td>NaN</td>\n",
       "      <td>NaN</td>\n",
       "      <td>0.30</td>\n",
       "      <td>1.0</td>\n",
       "      <td>0.600000</td>\n",
       "      <td>NaN</td>\n",
       "    </tr>\n",
       "    <tr>\n",
       "      <th>1</th>\n",
       "      <td>Camera Accessories</td>\n",
       "      <td>Camera Lens</td>\n",
       "      <td>0</td>\n",
       "      <td>3</td>\n",
       "      <td>4.0</td>\n",
       "      <td>4.0</td>\n",
       "      <td>4.0</td>\n",
       "      <td>Platinum</td>\n",
       "      <td>184.0</td>\n",
       "      <td>1.0</td>\n",
       "      <td>...</td>\n",
       "      <td>2.0</td>\n",
       "      <td>others</td>\n",
       "      <td>0.300000</td>\n",
       "      <td>1.0</td>\n",
       "      <td>NaN</td>\n",
       "      <td>NaN</td>\n",
       "      <td>0.30</td>\n",
       "      <td>NaN</td>\n",
       "      <td>0.600000</td>\n",
       "      <td>1.000000</td>\n",
       "    </tr>\n",
       "    <tr>\n",
       "      <th>2</th>\n",
       "      <td>Men's Fashion</td>\n",
       "      <td>Shoes</td>\n",
       "      <td>0</td>\n",
       "      <td>3</td>\n",
       "      <td>3.0</td>\n",
       "      <td>1.0</td>\n",
       "      <td>3.0</td>\n",
       "      <td>Gold</td>\n",
       "      <td>NaN</td>\n",
       "      <td>1.0</td>\n",
       "      <td>...</td>\n",
       "      <td>NaN</td>\n",
       "      <td>search--&gt;product_view--&gt;read_reviews--&gt;add_to_...</td>\n",
       "      <td>0.800000</td>\n",
       "      <td>1.0</td>\n",
       "      <td>8.000000</td>\n",
       "      <td>NaN</td>\n",
       "      <td>2.00</td>\n",
       "      <td>1.0</td>\n",
       "      <td>0.615385</td>\n",
       "      <td>0.500000</td>\n",
       "    </tr>\n",
       "    <tr>\n",
       "      <th>3</th>\n",
       "      <td>Mobile &amp; Accessories</td>\n",
       "      <td>Aux Cable</td>\n",
       "      <td>1</td>\n",
       "      <td>5</td>\n",
       "      <td>4.0</td>\n",
       "      <td>4.0</td>\n",
       "      <td>1.0</td>\n",
       "      <td>Platinum</td>\n",
       "      <td>56.0</td>\n",
       "      <td>1.0</td>\n",
       "      <td>...</td>\n",
       "      <td>NaN</td>\n",
       "      <td>search--&gt;product_view--&gt;read_reviews--&gt;add_to_...</td>\n",
       "      <td>0.933333</td>\n",
       "      <td>1.0</td>\n",
       "      <td>2.333333</td>\n",
       "      <td>NaN</td>\n",
       "      <td>1.75</td>\n",
       "      <td>NaN</td>\n",
       "      <td>0.538462</td>\n",
       "      <td>0.333333</td>\n",
       "    </tr>\n",
       "    <tr>\n",
       "      <th>4</th>\n",
       "      <td>Mobile &amp; Accessories</td>\n",
       "      <td>USB Cord</td>\n",
       "      <td>0</td>\n",
       "      <td>5</td>\n",
       "      <td>4.0</td>\n",
       "      <td>4.0</td>\n",
       "      <td>1.0</td>\n",
       "      <td>Platinum</td>\n",
       "      <td>56.0</td>\n",
       "      <td>1.0</td>\n",
       "      <td>...</td>\n",
       "      <td>NaN</td>\n",
       "      <td>search--&gt;product_view--&gt;read_reviews--&gt;add_to_...</td>\n",
       "      <td>0.933333</td>\n",
       "      <td>1.0</td>\n",
       "      <td>2.333333</td>\n",
       "      <td>NaN</td>\n",
       "      <td>1.75</td>\n",
       "      <td>NaN</td>\n",
       "      <td>0.538462</td>\n",
       "      <td>1.000000</td>\n",
       "    </tr>\n",
       "  </tbody>\n",
       "</table>\n",
       "<p>5 rows × 21 columns</p>\n",
       "</div>"
      ],
      "text/plain": [
       "               Category  SubCategory  Label  days_active    R    F    M  \\\n",
       "0    Camera Accessories   Camera Bag      1            3  4.0  4.0  4.0   \n",
       "1    Camera Accessories  Camera Lens      0            3  4.0  4.0  4.0   \n",
       "2         Men's Fashion        Shoes      0            3  3.0  1.0  3.0   \n",
       "3  Mobile & Accessories    Aux Cable      1            5  4.0  4.0  1.0   \n",
       "4  Mobile & Accessories     USB Cord      0            5  4.0  4.0  1.0   \n",
       "\n",
       "    Loyalty  Avg Purchase Gap  add_to_cart_to_purchase_ratios  ...  \\\n",
       "0  Platinum             184.0                             1.0  ...   \n",
       "1  Platinum             184.0                             1.0  ...   \n",
       "2      Gold               NaN                             1.0  ...   \n",
       "3  Platinum              56.0                             1.0  ...   \n",
       "4  Platinum              56.0                             1.0  ...   \n",
       "\n",
       "   click_wishlist_page_to_purchase_ratios  \\\n",
       "0                                     2.0   \n",
       "1                                     2.0   \n",
       "2                                     NaN   \n",
       "3                                     NaN   \n",
       "4                                     NaN   \n",
       "\n",
       "                                           user_path  \\\n",
       "0                                             others   \n",
       "1                                             others   \n",
       "2  search-->product_view-->read_reviews-->add_to_...   \n",
       "3  search-->product_view-->read_reviews-->add_to_...   \n",
       "4  search-->product_view-->read_reviews-->add_to_...   \n",
       "\n",
       "  cart_to_purchase_ratios_category  cart_to_purchase_ratios_subcategory  \\\n",
       "0                         0.300000                                  1.0   \n",
       "1                         0.300000                                  1.0   \n",
       "2                         0.800000                                  1.0   \n",
       "3                         0.933333                                  1.0   \n",
       "4                         0.933333                                  1.0   \n",
       "\n",
       "   wishlist_to_purchase_ratios_category  \\\n",
       "0                                   NaN   \n",
       "1                                   NaN   \n",
       "2                              8.000000   \n",
       "3                              2.333333   \n",
       "4                              2.333333   \n",
       "\n",
       "   wishlist_to_purchase_ratios_subcategory  \\\n",
       "0                                      NaN   \n",
       "1                                      NaN   \n",
       "2                                      NaN   \n",
       "3                                      NaN   \n",
       "4                                      NaN   \n",
       "\n",
       "   click_wishlist_to_purchase_ratios_category  \\\n",
       "0                                        0.30   \n",
       "1                                        0.30   \n",
       "2                                        2.00   \n",
       "3                                        1.75   \n",
       "4                                        1.75   \n",
       "\n",
       "   click_wishlist_to_purchase_ratios_subcategory  \\\n",
       "0                                            1.0   \n",
       "1                                            NaN   \n",
       "2                                            1.0   \n",
       "3                                            NaN   \n",
       "4                                            NaN   \n",
       "\n",
       "   product_view_to_purchase_ratios_category  \\\n",
       "0                                  0.600000   \n",
       "1                                  0.600000   \n",
       "2                                  0.615385   \n",
       "3                                  0.538462   \n",
       "4                                  0.538462   \n",
       "\n",
       "   product_view_to_purchase_ratios_subcategory  \n",
       "0                                          NaN  \n",
       "1                                     1.000000  \n",
       "2                                     0.500000  \n",
       "3                                     0.333333  \n",
       "4                                     1.000000  \n",
       "\n",
       "[5 rows x 21 columns]"
      ]
     },
     "execution_count": 3,
     "metadata": {},
     "output_type": "execute_result"
    }
   ],
   "source": [
    "df.head()"
   ]
  },
  {
   "cell_type": "code",
   "execution_count": 4,
   "id": "2c140816-8787-4144-a060-298db004b941",
   "metadata": {},
   "outputs": [
    {
     "name": "stdout",
     "output_type": "stream",
     "text": [
      "The shape of the final dataframe is (264, 21)\n"
     ]
    }
   ],
   "source": [
    "print(f\"The shape of the final dataframe is {df.shape}\")"
   ]
  },
  {
   "cell_type": "code",
   "execution_count": 5,
   "id": "4fb34002-b691-4b86-949c-6e87d3763442",
   "metadata": {},
   "outputs": [
    {
     "data": {
      "text/plain": [
       "Label\n",
       "1    132\n",
       "0    132\n",
       "Name: count, dtype: int64"
      ]
     },
     "execution_count": 5,
     "metadata": {},
     "output_type": "execute_result"
    }
   ],
   "source": [
    "# checking the balance of data\n",
    "df['Label'].value_counts()"
   ]
  },
  {
   "cell_type": "markdown",
   "id": "18b8b5bf-6d42-4c91-98cc-caa7fe9afb5e",
   "metadata": {},
   "source": [
    "The Dataset is perfectly balanced"
   ]
  },
  {
   "cell_type": "code",
   "execution_count": 6,
   "id": "dcdbd547-ba53-4457-8007-61a0faf86cf7",
   "metadata": {},
   "outputs": [
    {
     "data": {
      "text/plain": [
       "Category                                           0\n",
       "SubCategory                                        0\n",
       "Label                                              0\n",
       "days_active                                        0\n",
       "R                                                 93\n",
       "F                                                 93\n",
       "M                                                 93\n",
       "Loyalty                                           93\n",
       "Avg Purchase Gap                                 208\n",
       "add_to_cart_to_purchase_ratios                     0\n",
       "add_to_wishlist_to_purchase_ratios               231\n",
       "click_wishlist_page_to_purchase_ratios           109\n",
       "user_path                                          0\n",
       "cart_to_purchase_ratios_category                   0\n",
       "cart_to_purchase_ratios_subcategory                0\n",
       "wishlist_to_purchase_ratios_category             147\n",
       "wishlist_to_purchase_ratios_subcategory          220\n",
       "click_wishlist_to_purchase_ratios_category        26\n",
       "click_wishlist_to_purchase_ratios_subcategory    109\n",
       "product_view_to_purchase_ratios_category          16\n",
       "product_view_to_purchase_ratios_subcategory      108\n",
       "dtype: int64"
      ]
     },
     "execution_count": 6,
     "metadata": {},
     "output_type": "execute_result"
    }
   ],
   "source": [
    "# checking the NaNs\n",
    "df.isna().sum()"
   ]
  },
  {
   "cell_type": "markdown",
   "id": "17b2faa5-eed8-4ecc-8723-4c16df94c1e6",
   "metadata": {},
   "source": [
    "#### Imputation"
   ]
  },
  {
   "cell_type": "markdown",
   "id": "9972a10b-4c77-4acd-8e01-21422b79a4bf",
   "metadata": {},
   "source": [
    "- For R,F,M Features impute NaN with 0 because for a new user the RFM values would be NaN\n",
    "- For avg_purchase_gap impute NaN with -1 because for the users who bought only once won't have a purchase_gap value\n",
    "- For rest of all features impute NaN with 0"
   ]
  },
  {
   "cell_type": "markdown",
   "id": "ded257f7-5116-47ba-91dc-b0ce1d0026d1",
   "metadata": {},
   "source": [
    "## Model Building"
   ]
  },
  {
   "cell_type": "markdown",
   "id": "50ee9726-1e1a-4927-ac99-2fd0fc81fe3b",
   "metadata": {},
   "source": [
    "#### Data Splitting"
   ]
  },
  {
   "cell_type": "code",
   "execution_count": 7,
   "id": "f1f0431e-768c-45e6-b06f-57b673ee0105",
   "metadata": {},
   "outputs": [],
   "source": [
    "# splitting the features and target\n",
    "y = df['Label']\n",
    "x = df.drop(columns=['Label'])\n",
    "\n",
    "# train test splitting\n",
    "x_train, x_test, y_train, y_test =train_test_split(x, y, test_size=0.2, random_state=42)"
   ]
  },
  {
   "cell_type": "code",
   "execution_count": 8,
   "id": "67312599-21dc-46b7-80ea-3c0fa3ffe875",
   "metadata": {},
   "outputs": [
    {
     "name": "stdout",
     "output_type": "stream",
     "text": [
      "Categorical Columns \n",
      "\n",
      " ['Category', 'SubCategory', 'Loyalty', 'user_path'] \n",
      "\n",
      "\n",
      "Numerical Columns \n",
      "\n",
      " ['days_active', 'R', 'F', 'M', 'Avg Purchase Gap', 'add_to_cart_to_purchase_ratios', 'add_to_wishlist_to_purchase_ratios', 'click_wishlist_page_to_purchase_ratios', 'cart_to_purchase_ratios_category', 'cart_to_purchase_ratios_subcategory', 'wishlist_to_purchase_ratios_category', 'wishlist_to_purchase_ratios_subcategory', 'click_wishlist_to_purchase_ratios_category', 'click_wishlist_to_purchase_ratios_subcategory', 'product_view_to_purchase_ratios_category', 'product_view_to_purchase_ratios_subcategory'] \n",
      "\n",
      "\n",
      "Category column has 89\n",
      "SubCategory column has 232\n",
      "Loyalty column has 4\n",
      "user_path column has 11\n"
     ]
    }
   ],
   "source": [
    "# splitting the categorical columns and numerical columns\n",
    "cat_cols = x_train.select_dtypes([\"object\"]).columns.tolist()\n",
    "cat_df = x_train[cat_cols]\n",
    "\n",
    "num_cols = x_train.select_dtypes([\"int\",\"float\"]).columns.tolist()\n",
    "num_df = x_train[num_cols]\n",
    "\n",
    "print(\"Categorical Columns \\n\\n\",cat_cols,\"\\n\\n\")\n",
    "print(\"Numerical Columns \\n\\n\",num_cols,\"\\n\\n\")\n",
    "\n",
    "# checking the no of categories in each categorical column\n",
    "for i in cat_cols:\n",
    "    print(f\"{i} column has {df[i].nunique()}\")"
   ]
  },
  {
   "cell_type": "markdown",
   "id": "2ffa179f-d1f8-42ab-aa87-3ee12ec581d5",
   "metadata": {},
   "source": [
    "#### Categorical Encoding Strategy\n"
   ]
  },
  {
   "cell_type": "markdown",
   "id": "5d584e54-fea9-4278-a52b-877b8504167c",
   "metadata": {},
   "source": [
    "- The Category and SubCategory features has 89, 232 Categories respecively so if we do OHE it will increase the dimensionaltiy so lets encode this using TargetEncoding\n",
    "- Loyalty and user_path has only few categories so lets encode them using OHE"
   ]
  },
  {
   "cell_type": "markdown",
   "id": "6a697b19-6d1b-4d58-aec2-74eda4276450",
   "metadata": {
    "jp-MarkdownHeadingCollapsed": true
   },
   "source": [
    "#### Imputation "
   ]
  },
  {
   "cell_type": "markdown",
   "id": "37dbbf48-33dd-4d9f-82b2-c64db8592795",
   "metadata": {},
   "source": [
    "Lets build a ColumnTransformer which imputes missing values according to the column"
   ]
  },
  {
   "cell_type": "code",
   "execution_count": 9,
   "id": "a9d74c51-7bc4-4434-960c-b89773f475bf",
   "metadata": {},
   "outputs": [],
   "source": [
    "# defining a lists of cols to impute with -1 \n",
    "cols_to_impute_with_minus_1 = [\"Avg Purchase Gap\"]\n",
    "\n",
    "# defining a lists of cols to impute with 0\n",
    "cols_to_impute_with_0 = ['days_active', 'R', 'F', 'M', 'add_to_cart_to_purchase_ratios', 'add_to_wishlist_to_purchase_ratios', 'click_wishlist_page_to_purchase_ratios', 'cart_to_purchase_ratios_category', 'cart_to_purchase_ratios_subcategory', 'wishlist_to_purchase_ratios_category', 'wishlist_to_purchase_ratios_subcategory', 'click_wishlist_to_purchase_ratios_category', 'click_wishlist_to_purchase_ratios_subcategory', 'product_view_to_purchase_ratios_category', 'product_view_to_purchase_ratios_subcategory'] \n",
    "\n",
    "# definfing list of categorical cols to do OHE\n",
    "ohe_cols = [\"Loyalty\",\"user_path\"]\n",
    "\n",
    "# definfing list of categorical cols to do Target encoding\n",
    "target_encod_cols = ['Category', 'SubCategory']"
   ]
  },
  {
   "cell_type": "code",
   "execution_count": 10,
   "id": "c508a21a-48f7-4d62-b473-a771c2e215ea",
   "metadata": {},
   "outputs": [
    {
     "data": {
      "text/html": [
       "<style>#sk-container-id-1 {color: black;background-color: white;}#sk-container-id-1 pre{padding: 0;}#sk-container-id-1 div.sk-toggleable {background-color: white;}#sk-container-id-1 label.sk-toggleable__label {cursor: pointer;display: block;width: 100%;margin-bottom: 0;padding: 0.3em;box-sizing: border-box;text-align: center;}#sk-container-id-1 label.sk-toggleable__label-arrow:before {content: \"▸\";float: left;margin-right: 0.25em;color: #696969;}#sk-container-id-1 label.sk-toggleable__label-arrow:hover:before {color: black;}#sk-container-id-1 div.sk-estimator:hover label.sk-toggleable__label-arrow:before {color: black;}#sk-container-id-1 div.sk-toggleable__content {max-height: 0;max-width: 0;overflow: hidden;text-align: left;background-color: #f0f8ff;}#sk-container-id-1 div.sk-toggleable__content pre {margin: 0.2em;color: black;border-radius: 0.25em;background-color: #f0f8ff;}#sk-container-id-1 input.sk-toggleable__control:checked~div.sk-toggleable__content {max-height: 200px;max-width: 100%;overflow: auto;}#sk-container-id-1 input.sk-toggleable__control:checked~label.sk-toggleable__label-arrow:before {content: \"▾\";}#sk-container-id-1 div.sk-estimator input.sk-toggleable__control:checked~label.sk-toggleable__label {background-color: #d4ebff;}#sk-container-id-1 div.sk-label input.sk-toggleable__control:checked~label.sk-toggleable__label {background-color: #d4ebff;}#sk-container-id-1 input.sk-hidden--visually {border: 0;clip: rect(1px 1px 1px 1px);clip: rect(1px, 1px, 1px, 1px);height: 1px;margin: -1px;overflow: hidden;padding: 0;position: absolute;width: 1px;}#sk-container-id-1 div.sk-estimator {font-family: monospace;background-color: #f0f8ff;border: 1px dotted black;border-radius: 0.25em;box-sizing: border-box;margin-bottom: 0.5em;}#sk-container-id-1 div.sk-estimator:hover {background-color: #d4ebff;}#sk-container-id-1 div.sk-parallel-item::after {content: \"\";width: 100%;border-bottom: 1px solid gray;flex-grow: 1;}#sk-container-id-1 div.sk-label:hover label.sk-toggleable__label {background-color: #d4ebff;}#sk-container-id-1 div.sk-serial::before {content: \"\";position: absolute;border-left: 1px solid gray;box-sizing: border-box;top: 0;bottom: 0;left: 50%;z-index: 0;}#sk-container-id-1 div.sk-serial {display: flex;flex-direction: column;align-items: center;background-color: white;padding-right: 0.2em;padding-left: 0.2em;position: relative;}#sk-container-id-1 div.sk-item {position: relative;z-index: 1;}#sk-container-id-1 div.sk-parallel {display: flex;align-items: stretch;justify-content: center;background-color: white;position: relative;}#sk-container-id-1 div.sk-item::before, #sk-container-id-1 div.sk-parallel-item::before {content: \"\";position: absolute;border-left: 1px solid gray;box-sizing: border-box;top: 0;bottom: 0;left: 50%;z-index: -1;}#sk-container-id-1 div.sk-parallel-item {display: flex;flex-direction: column;z-index: 1;position: relative;background-color: white;}#sk-container-id-1 div.sk-parallel-item:first-child::after {align-self: flex-end;width: 50%;}#sk-container-id-1 div.sk-parallel-item:last-child::after {align-self: flex-start;width: 50%;}#sk-container-id-1 div.sk-parallel-item:only-child::after {width: 0;}#sk-container-id-1 div.sk-dashed-wrapped {border: 1px dashed gray;margin: 0 0.4em 0.5em 0.4em;box-sizing: border-box;padding-bottom: 0.4em;background-color: white;}#sk-container-id-1 div.sk-label label {font-family: monospace;font-weight: bold;display: inline-block;line-height: 1.2em;}#sk-container-id-1 div.sk-label-container {text-align: center;}#sk-container-id-1 div.sk-container {/* jupyter's `normalize.less` sets `[hidden] { display: none; }` but bootstrap.min.css set `[hidden] { display: none !important; }` so we also need the `!important` here to be able to override the default hidden behavior on the sphinx rendered scikit-learn.org. See: https://github.com/scikit-learn/scikit-learn/issues/21755 */display: inline-block !important;position: relative;}#sk-container-id-1 div.sk-text-repr-fallback {display: none;}</style><div id=\"sk-container-id-1\" class=\"sk-top-container\"><div class=\"sk-text-repr-fallback\"><pre>ColumnTransformer(transformers=[(&#x27;imputer_0&#x27;,\n",
       "                                 SimpleImputer(fill_value=0,\n",
       "                                               strategy=&#x27;constant&#x27;),\n",
       "                                 [&#x27;days_active&#x27;, &#x27;R&#x27;, &#x27;F&#x27;, &#x27;M&#x27;,\n",
       "                                  &#x27;add_to_cart_to_purchase_ratios&#x27;,\n",
       "                                  &#x27;add_to_wishlist_to_purchase_ratios&#x27;,\n",
       "                                  &#x27;click_wishlist_page_to_purchase_ratios&#x27;,\n",
       "                                  &#x27;cart_to_purchase_ratios_category&#x27;,\n",
       "                                  &#x27;cart_to_purchase_ratios_subcategory&#x27;,\n",
       "                                  &#x27;wishlist_to_purchase_ratios_category&#x27;,\n",
       "                                  &#x27;wishli...\n",
       "                                  &#x27;click_wishlist_to_purchase_ratios_category&#x27;,\n",
       "                                  &#x27;click_wishlist_to_purchase_ratios_subcategory&#x27;,\n",
       "                                  &#x27;product_view_to_purchase_ratios_category&#x27;,\n",
       "                                  &#x27;product_view_to_purchase_ratios_subcategory&#x27;]),\n",
       "                                (&#x27;imputer_minus_1&#x27;,\n",
       "                                 SimpleImputer(fill_value=-1,\n",
       "                                               strategy=&#x27;constant&#x27;),\n",
       "                                 [&#x27;Avg Purchase Gap&#x27;]),\n",
       "                                (&#x27;imputer_categorical&#x27;,\n",
       "                                 SimpleImputer(strategy=&#x27;most_frequent&#x27;),\n",
       "                                 [&#x27;Category&#x27;, &#x27;SubCategory&#x27;, &#x27;Loyalty&#x27;,\n",
       "                                  &#x27;user_path&#x27;])])</pre><b>In a Jupyter environment, please rerun this cell to show the HTML representation or trust the notebook. <br />On GitHub, the HTML representation is unable to render, please try loading this page with nbviewer.org.</b></div><div class=\"sk-container\" hidden><div class=\"sk-item sk-dashed-wrapped\"><div class=\"sk-label-container\"><div class=\"sk-label sk-toggleable\"><input class=\"sk-toggleable__control sk-hidden--visually\" id=\"sk-estimator-id-1\" type=\"checkbox\" ><label for=\"sk-estimator-id-1\" class=\"sk-toggleable__label sk-toggleable__label-arrow\">ColumnTransformer</label><div class=\"sk-toggleable__content\"><pre>ColumnTransformer(transformers=[(&#x27;imputer_0&#x27;,\n",
       "                                 SimpleImputer(fill_value=0,\n",
       "                                               strategy=&#x27;constant&#x27;),\n",
       "                                 [&#x27;days_active&#x27;, &#x27;R&#x27;, &#x27;F&#x27;, &#x27;M&#x27;,\n",
       "                                  &#x27;add_to_cart_to_purchase_ratios&#x27;,\n",
       "                                  &#x27;add_to_wishlist_to_purchase_ratios&#x27;,\n",
       "                                  &#x27;click_wishlist_page_to_purchase_ratios&#x27;,\n",
       "                                  &#x27;cart_to_purchase_ratios_category&#x27;,\n",
       "                                  &#x27;cart_to_purchase_ratios_subcategory&#x27;,\n",
       "                                  &#x27;wishlist_to_purchase_ratios_category&#x27;,\n",
       "                                  &#x27;wishli...\n",
       "                                  &#x27;click_wishlist_to_purchase_ratios_category&#x27;,\n",
       "                                  &#x27;click_wishlist_to_purchase_ratios_subcategory&#x27;,\n",
       "                                  &#x27;product_view_to_purchase_ratios_category&#x27;,\n",
       "                                  &#x27;product_view_to_purchase_ratios_subcategory&#x27;]),\n",
       "                                (&#x27;imputer_minus_1&#x27;,\n",
       "                                 SimpleImputer(fill_value=-1,\n",
       "                                               strategy=&#x27;constant&#x27;),\n",
       "                                 [&#x27;Avg Purchase Gap&#x27;]),\n",
       "                                (&#x27;imputer_categorical&#x27;,\n",
       "                                 SimpleImputer(strategy=&#x27;most_frequent&#x27;),\n",
       "                                 [&#x27;Category&#x27;, &#x27;SubCategory&#x27;, &#x27;Loyalty&#x27;,\n",
       "                                  &#x27;user_path&#x27;])])</pre></div></div></div><div class=\"sk-parallel\"><div class=\"sk-parallel-item\"><div class=\"sk-item\"><div class=\"sk-label-container\"><div class=\"sk-label sk-toggleable\"><input class=\"sk-toggleable__control sk-hidden--visually\" id=\"sk-estimator-id-2\" type=\"checkbox\" ><label for=\"sk-estimator-id-2\" class=\"sk-toggleable__label sk-toggleable__label-arrow\">imputer_0</label><div class=\"sk-toggleable__content\"><pre>[&#x27;days_active&#x27;, &#x27;R&#x27;, &#x27;F&#x27;, &#x27;M&#x27;, &#x27;add_to_cart_to_purchase_ratios&#x27;, &#x27;add_to_wishlist_to_purchase_ratios&#x27;, &#x27;click_wishlist_page_to_purchase_ratios&#x27;, &#x27;cart_to_purchase_ratios_category&#x27;, &#x27;cart_to_purchase_ratios_subcategory&#x27;, &#x27;wishlist_to_purchase_ratios_category&#x27;, &#x27;wishlist_to_purchase_ratios_subcategory&#x27;, &#x27;click_wishlist_to_purchase_ratios_category&#x27;, &#x27;click_wishlist_to_purchase_ratios_subcategory&#x27;, &#x27;product_view_to_purchase_ratios_category&#x27;, &#x27;product_view_to_purchase_ratios_subcategory&#x27;]</pre></div></div></div><div class=\"sk-serial\"><div class=\"sk-item\"><div class=\"sk-estimator sk-toggleable\"><input class=\"sk-toggleable__control sk-hidden--visually\" id=\"sk-estimator-id-3\" type=\"checkbox\" ><label for=\"sk-estimator-id-3\" class=\"sk-toggleable__label sk-toggleable__label-arrow\">SimpleImputer</label><div class=\"sk-toggleable__content\"><pre>SimpleImputer(fill_value=0, strategy=&#x27;constant&#x27;)</pre></div></div></div></div></div></div><div class=\"sk-parallel-item\"><div class=\"sk-item\"><div class=\"sk-label-container\"><div class=\"sk-label sk-toggleable\"><input class=\"sk-toggleable__control sk-hidden--visually\" id=\"sk-estimator-id-4\" type=\"checkbox\" ><label for=\"sk-estimator-id-4\" class=\"sk-toggleable__label sk-toggleable__label-arrow\">imputer_minus_1</label><div class=\"sk-toggleable__content\"><pre>[&#x27;Avg Purchase Gap&#x27;]</pre></div></div></div><div class=\"sk-serial\"><div class=\"sk-item\"><div class=\"sk-estimator sk-toggleable\"><input class=\"sk-toggleable__control sk-hidden--visually\" id=\"sk-estimator-id-5\" type=\"checkbox\" ><label for=\"sk-estimator-id-5\" class=\"sk-toggleable__label sk-toggleable__label-arrow\">SimpleImputer</label><div class=\"sk-toggleable__content\"><pre>SimpleImputer(fill_value=-1, strategy=&#x27;constant&#x27;)</pre></div></div></div></div></div></div><div class=\"sk-parallel-item\"><div class=\"sk-item\"><div class=\"sk-label-container\"><div class=\"sk-label sk-toggleable\"><input class=\"sk-toggleable__control sk-hidden--visually\" id=\"sk-estimator-id-6\" type=\"checkbox\" ><label for=\"sk-estimator-id-6\" class=\"sk-toggleable__label sk-toggleable__label-arrow\">imputer_categorical</label><div class=\"sk-toggleable__content\"><pre>[&#x27;Category&#x27;, &#x27;SubCategory&#x27;, &#x27;Loyalty&#x27;, &#x27;user_path&#x27;]</pre></div></div></div><div class=\"sk-serial\"><div class=\"sk-item\"><div class=\"sk-estimator sk-toggleable\"><input class=\"sk-toggleable__control sk-hidden--visually\" id=\"sk-estimator-id-7\" type=\"checkbox\" ><label for=\"sk-estimator-id-7\" class=\"sk-toggleable__label sk-toggleable__label-arrow\">SimpleImputer</label><div class=\"sk-toggleable__content\"><pre>SimpleImputer(strategy=&#x27;most_frequent&#x27;)</pre></div></div></div></div></div></div></div></div></div></div>"
      ],
      "text/plain": [
       "ColumnTransformer(transformers=[('imputer_0',\n",
       "                                 SimpleImputer(fill_value=0,\n",
       "                                               strategy='constant'),\n",
       "                                 ['days_active', 'R', 'F', 'M',\n",
       "                                  'add_to_cart_to_purchase_ratios',\n",
       "                                  'add_to_wishlist_to_purchase_ratios',\n",
       "                                  'click_wishlist_page_to_purchase_ratios',\n",
       "                                  'cart_to_purchase_ratios_category',\n",
       "                                  'cart_to_purchase_ratios_subcategory',\n",
       "                                  'wishlist_to_purchase_ratios_category',\n",
       "                                  'wishli...\n",
       "                                  'click_wishlist_to_purchase_ratios_category',\n",
       "                                  'click_wishlist_to_purchase_ratios_subcategory',\n",
       "                                  'product_view_to_purchase_ratios_category',\n",
       "                                  'product_view_to_purchase_ratios_subcategory']),\n",
       "                                ('imputer_minus_1',\n",
       "                                 SimpleImputer(fill_value=-1,\n",
       "                                               strategy='constant'),\n",
       "                                 ['Avg Purchase Gap']),\n",
       "                                ('imputer_categorical',\n",
       "                                 SimpleImputer(strategy='most_frequent'),\n",
       "                                 ['Category', 'SubCategory', 'Loyalty',\n",
       "                                  'user_path'])])"
      ]
     },
     "execution_count": 10,
     "metadata": {},
     "output_type": "execute_result"
    }
   ],
   "source": [
    "# defining the imputer obj\n",
    "imputer = ColumnTransformer([\n",
    "                            ('imputer_0', SimpleImputer(strategy='constant', fill_value=0), cols_to_impute_with_0),\n",
    "                            ('imputer_minus_1', SimpleImputer(strategy='constant', fill_value=-1), cols_to_impute_with_minus_1),\n",
    "                            ('imputer_categorical', SimpleImputer(strategy='most_frequent'), cat_cols),\n",
    "                            ])\n",
    "imputer.set_output(transform=\"pandas\")"
   ]
  },
  {
   "cell_type": "markdown",
   "id": "aa6bfe9a-fe6a-4261-a5bf-6a0b0e1d293e",
   "metadata": {
    "jp-MarkdownHeadingCollapsed": true
   },
   "source": [
    "#### Encoding"
   ]
  },
  {
   "cell_type": "code",
   "execution_count": 11,
   "id": "1cb76857-b07c-4bcc-b1cb-f8ee5f649836",
   "metadata": {},
   "outputs": [],
   "source": [
    "# getting the name of the first operation of imputer (ColumnTransformer) coz this name will be added as a prefix for all columns of the resulting df by imputer object\n",
    "numerical_prefix = imputer.transformers[0][0]+\"__\"\n",
    "purchase_prefix =  imputer.transformers[1][0]+\"__\"\n",
    "categorical_prefix = imputer.transformers[2][0]+\"__\"\n",
    "\n",
    "# prefixing the cols \n",
    "prefixed_ohe_cols = [categorical_prefix + col for col in ohe_cols ]\n",
    "prefixed_target_encod_cols = [categorical_prefix + col for col in target_encod_cols]\n",
    "\n",
    "prefixed_num_cols = [numerical_prefix + col for col in num_cols ]\n",
    "# replacing the imputer_categorical__days_active imputer_minus_1__days_active\n",
    "prefixed_num_cols = [f\"{purchase_prefix}Avg Purchase Gap\" if i == f\"{numerical_prefix}Avg Purchase Gap\" else i for i in prefixed_num_cols]"
   ]
  },
  {
   "cell_type": "code",
   "execution_count": 12,
   "id": "18c2a6d6-7e80-4a3d-aaf9-c45cbf700700",
   "metadata": {},
   "outputs": [
    {
     "data": {
      "text/html": [
       "<style>#sk-container-id-2 {color: black;background-color: white;}#sk-container-id-2 pre{padding: 0;}#sk-container-id-2 div.sk-toggleable {background-color: white;}#sk-container-id-2 label.sk-toggleable__label {cursor: pointer;display: block;width: 100%;margin-bottom: 0;padding: 0.3em;box-sizing: border-box;text-align: center;}#sk-container-id-2 label.sk-toggleable__label-arrow:before {content: \"▸\";float: left;margin-right: 0.25em;color: #696969;}#sk-container-id-2 label.sk-toggleable__label-arrow:hover:before {color: black;}#sk-container-id-2 div.sk-estimator:hover label.sk-toggleable__label-arrow:before {color: black;}#sk-container-id-2 div.sk-toggleable__content {max-height: 0;max-width: 0;overflow: hidden;text-align: left;background-color: #f0f8ff;}#sk-container-id-2 div.sk-toggleable__content pre {margin: 0.2em;color: black;border-radius: 0.25em;background-color: #f0f8ff;}#sk-container-id-2 input.sk-toggleable__control:checked~div.sk-toggleable__content {max-height: 200px;max-width: 100%;overflow: auto;}#sk-container-id-2 input.sk-toggleable__control:checked~label.sk-toggleable__label-arrow:before {content: \"▾\";}#sk-container-id-2 div.sk-estimator input.sk-toggleable__control:checked~label.sk-toggleable__label {background-color: #d4ebff;}#sk-container-id-2 div.sk-label input.sk-toggleable__control:checked~label.sk-toggleable__label {background-color: #d4ebff;}#sk-container-id-2 input.sk-hidden--visually {border: 0;clip: rect(1px 1px 1px 1px);clip: rect(1px, 1px, 1px, 1px);height: 1px;margin: -1px;overflow: hidden;padding: 0;position: absolute;width: 1px;}#sk-container-id-2 div.sk-estimator {font-family: monospace;background-color: #f0f8ff;border: 1px dotted black;border-radius: 0.25em;box-sizing: border-box;margin-bottom: 0.5em;}#sk-container-id-2 div.sk-estimator:hover {background-color: #d4ebff;}#sk-container-id-2 div.sk-parallel-item::after {content: \"\";width: 100%;border-bottom: 1px solid gray;flex-grow: 1;}#sk-container-id-2 div.sk-label:hover label.sk-toggleable__label {background-color: #d4ebff;}#sk-container-id-2 div.sk-serial::before {content: \"\";position: absolute;border-left: 1px solid gray;box-sizing: border-box;top: 0;bottom: 0;left: 50%;z-index: 0;}#sk-container-id-2 div.sk-serial {display: flex;flex-direction: column;align-items: center;background-color: white;padding-right: 0.2em;padding-left: 0.2em;position: relative;}#sk-container-id-2 div.sk-item {position: relative;z-index: 1;}#sk-container-id-2 div.sk-parallel {display: flex;align-items: stretch;justify-content: center;background-color: white;position: relative;}#sk-container-id-2 div.sk-item::before, #sk-container-id-2 div.sk-parallel-item::before {content: \"\";position: absolute;border-left: 1px solid gray;box-sizing: border-box;top: 0;bottom: 0;left: 50%;z-index: -1;}#sk-container-id-2 div.sk-parallel-item {display: flex;flex-direction: column;z-index: 1;position: relative;background-color: white;}#sk-container-id-2 div.sk-parallel-item:first-child::after {align-self: flex-end;width: 50%;}#sk-container-id-2 div.sk-parallel-item:last-child::after {align-self: flex-start;width: 50%;}#sk-container-id-2 div.sk-parallel-item:only-child::after {width: 0;}#sk-container-id-2 div.sk-dashed-wrapped {border: 1px dashed gray;margin: 0 0.4em 0.5em 0.4em;box-sizing: border-box;padding-bottom: 0.4em;background-color: white;}#sk-container-id-2 div.sk-label label {font-family: monospace;font-weight: bold;display: inline-block;line-height: 1.2em;}#sk-container-id-2 div.sk-label-container {text-align: center;}#sk-container-id-2 div.sk-container {/* jupyter's `normalize.less` sets `[hidden] { display: none; }` but bootstrap.min.css set `[hidden] { display: none !important; }` so we also need the `!important` here to be able to override the default hidden behavior on the sphinx rendered scikit-learn.org. See: https://github.com/scikit-learn/scikit-learn/issues/21755 */display: inline-block !important;position: relative;}#sk-container-id-2 div.sk-text-repr-fallback {display: none;}</style><div id=\"sk-container-id-2\" class=\"sk-top-container\"><div class=\"sk-text-repr-fallback\"><pre>ColumnTransformer(transformers=[(&#x27;scaler_numeric&#x27;, StandardScaler(),\n",
       "                                 [&#x27;imputer_0__days_active&#x27;, &#x27;imputer_0__R&#x27;,\n",
       "                                  &#x27;imputer_0__F&#x27;, &#x27;imputer_0__M&#x27;,\n",
       "                                  &#x27;imputer_minus_1__Avg Purchase Gap&#x27;,\n",
       "                                  &#x27;imputer_0__add_to_cart_to_purchase_ratios&#x27;,\n",
       "                                  &#x27;imputer_0__add_to_wishlist_to_purchase_ratios&#x27;,\n",
       "                                  &#x27;imputer_0__click_wishlist_page_to_purchase_ratios&#x27;,\n",
       "                                  &#x27;imputer_0__cart_to_purchase_ratio...\n",
       "                                  &#x27;imputer_0__click_wishlist_to_purchase_ratios_subcategory&#x27;,\n",
       "                                  &#x27;imputer_0__product_view_to_purchase_ratios_category&#x27;,\n",
       "                                  &#x27;imputer_0__product_view_to_purchase_ratios_subcategory&#x27;]),\n",
       "                                (&#x27;ohe_encoder&#x27;, OneHotEncoder(sparse=False),\n",
       "                                 [&#x27;imputer_categorical__Loyalty&#x27;,\n",
       "                                  &#x27;imputer_categorical__user_path&#x27;]),\n",
       "                                (&#x27;target_encoders&#x27;, TargetEncoder(),\n",
       "                                 [&#x27;imputer_categorical__Category&#x27;,\n",
       "                                  &#x27;imputer_categorical__SubCategory&#x27;])])</pre><b>In a Jupyter environment, please rerun this cell to show the HTML representation or trust the notebook. <br />On GitHub, the HTML representation is unable to render, please try loading this page with nbviewer.org.</b></div><div class=\"sk-container\" hidden><div class=\"sk-item sk-dashed-wrapped\"><div class=\"sk-label-container\"><div class=\"sk-label sk-toggleable\"><input class=\"sk-toggleable__control sk-hidden--visually\" id=\"sk-estimator-id-8\" type=\"checkbox\" ><label for=\"sk-estimator-id-8\" class=\"sk-toggleable__label sk-toggleable__label-arrow\">ColumnTransformer</label><div class=\"sk-toggleable__content\"><pre>ColumnTransformer(transformers=[(&#x27;scaler_numeric&#x27;, StandardScaler(),\n",
       "                                 [&#x27;imputer_0__days_active&#x27;, &#x27;imputer_0__R&#x27;,\n",
       "                                  &#x27;imputer_0__F&#x27;, &#x27;imputer_0__M&#x27;,\n",
       "                                  &#x27;imputer_minus_1__Avg Purchase Gap&#x27;,\n",
       "                                  &#x27;imputer_0__add_to_cart_to_purchase_ratios&#x27;,\n",
       "                                  &#x27;imputer_0__add_to_wishlist_to_purchase_ratios&#x27;,\n",
       "                                  &#x27;imputer_0__click_wishlist_page_to_purchase_ratios&#x27;,\n",
       "                                  &#x27;imputer_0__cart_to_purchase_ratio...\n",
       "                                  &#x27;imputer_0__click_wishlist_to_purchase_ratios_subcategory&#x27;,\n",
       "                                  &#x27;imputer_0__product_view_to_purchase_ratios_category&#x27;,\n",
       "                                  &#x27;imputer_0__product_view_to_purchase_ratios_subcategory&#x27;]),\n",
       "                                (&#x27;ohe_encoder&#x27;, OneHotEncoder(sparse=False),\n",
       "                                 [&#x27;imputer_categorical__Loyalty&#x27;,\n",
       "                                  &#x27;imputer_categorical__user_path&#x27;]),\n",
       "                                (&#x27;target_encoders&#x27;, TargetEncoder(),\n",
       "                                 [&#x27;imputer_categorical__Category&#x27;,\n",
       "                                  &#x27;imputer_categorical__SubCategory&#x27;])])</pre></div></div></div><div class=\"sk-parallel\"><div class=\"sk-parallel-item\"><div class=\"sk-item\"><div class=\"sk-label-container\"><div class=\"sk-label sk-toggleable\"><input class=\"sk-toggleable__control sk-hidden--visually\" id=\"sk-estimator-id-9\" type=\"checkbox\" ><label for=\"sk-estimator-id-9\" class=\"sk-toggleable__label sk-toggleable__label-arrow\">scaler_numeric</label><div class=\"sk-toggleable__content\"><pre>[&#x27;imputer_0__days_active&#x27;, &#x27;imputer_0__R&#x27;, &#x27;imputer_0__F&#x27;, &#x27;imputer_0__M&#x27;, &#x27;imputer_minus_1__Avg Purchase Gap&#x27;, &#x27;imputer_0__add_to_cart_to_purchase_ratios&#x27;, &#x27;imputer_0__add_to_wishlist_to_purchase_ratios&#x27;, &#x27;imputer_0__click_wishlist_page_to_purchase_ratios&#x27;, &#x27;imputer_0__cart_to_purchase_ratios_category&#x27;, &#x27;imputer_0__cart_to_purchase_ratios_subcategory&#x27;, &#x27;imputer_0__wishlist_to_purchase_ratios_category&#x27;, &#x27;imputer_0__wishlist_to_purchase_ratios_subcategory&#x27;, &#x27;imputer_0__click_wishlist_to_purchase_ratios_category&#x27;, &#x27;imputer_0__click_wishlist_to_purchase_ratios_subcategory&#x27;, &#x27;imputer_0__product_view_to_purchase_ratios_category&#x27;, &#x27;imputer_0__product_view_to_purchase_ratios_subcategory&#x27;]</pre></div></div></div><div class=\"sk-serial\"><div class=\"sk-item\"><div class=\"sk-estimator sk-toggleable\"><input class=\"sk-toggleable__control sk-hidden--visually\" id=\"sk-estimator-id-10\" type=\"checkbox\" ><label for=\"sk-estimator-id-10\" class=\"sk-toggleable__label sk-toggleable__label-arrow\">StandardScaler</label><div class=\"sk-toggleable__content\"><pre>StandardScaler()</pre></div></div></div></div></div></div><div class=\"sk-parallel-item\"><div class=\"sk-item\"><div class=\"sk-label-container\"><div class=\"sk-label sk-toggleable\"><input class=\"sk-toggleable__control sk-hidden--visually\" id=\"sk-estimator-id-11\" type=\"checkbox\" ><label for=\"sk-estimator-id-11\" class=\"sk-toggleable__label sk-toggleable__label-arrow\">ohe_encoder</label><div class=\"sk-toggleable__content\"><pre>[&#x27;imputer_categorical__Loyalty&#x27;, &#x27;imputer_categorical__user_path&#x27;]</pre></div></div></div><div class=\"sk-serial\"><div class=\"sk-item\"><div class=\"sk-estimator sk-toggleable\"><input class=\"sk-toggleable__control sk-hidden--visually\" id=\"sk-estimator-id-12\" type=\"checkbox\" ><label for=\"sk-estimator-id-12\" class=\"sk-toggleable__label sk-toggleable__label-arrow\">OneHotEncoder</label><div class=\"sk-toggleable__content\"><pre>OneHotEncoder(sparse=False)</pre></div></div></div></div></div></div><div class=\"sk-parallel-item\"><div class=\"sk-item\"><div class=\"sk-label-container\"><div class=\"sk-label sk-toggleable\"><input class=\"sk-toggleable__control sk-hidden--visually\" id=\"sk-estimator-id-13\" type=\"checkbox\" ><label for=\"sk-estimator-id-13\" class=\"sk-toggleable__label sk-toggleable__label-arrow\">target_encoders</label><div class=\"sk-toggleable__content\"><pre>[&#x27;imputer_categorical__Category&#x27;, &#x27;imputer_categorical__SubCategory&#x27;]</pre></div></div></div><div class=\"sk-serial\"><div class=\"sk-item\"><div class=\"sk-estimator sk-toggleable\"><input class=\"sk-toggleable__control sk-hidden--visually\" id=\"sk-estimator-id-14\" type=\"checkbox\" ><label for=\"sk-estimator-id-14\" class=\"sk-toggleable__label sk-toggleable__label-arrow\">TargetEncoder</label><div class=\"sk-toggleable__content\"><pre>TargetEncoder()</pre></div></div></div></div></div></div></div></div></div></div>"
      ],
      "text/plain": [
       "ColumnTransformer(transformers=[('scaler_numeric', StandardScaler(),\n",
       "                                 ['imputer_0__days_active', 'imputer_0__R',\n",
       "                                  'imputer_0__F', 'imputer_0__M',\n",
       "                                  'imputer_minus_1__Avg Purchase Gap',\n",
       "                                  'imputer_0__add_to_cart_to_purchase_ratios',\n",
       "                                  'imputer_0__add_to_wishlist_to_purchase_ratios',\n",
       "                                  'imputer_0__click_wishlist_page_to_purchase_ratios',\n",
       "                                  'imputer_0__cart_to_purchase_ratio...\n",
       "                                  'imputer_0__click_wishlist_to_purchase_ratios_subcategory',\n",
       "                                  'imputer_0__product_view_to_purchase_ratios_category',\n",
       "                                  'imputer_0__product_view_to_purchase_ratios_subcategory']),\n",
       "                                ('ohe_encoder', OneHotEncoder(sparse=False),\n",
       "                                 ['imputer_categorical__Loyalty',\n",
       "                                  'imputer_categorical__user_path']),\n",
       "                                ('target_encoders', TargetEncoder(),\n",
       "                                 ['imputer_categorical__Category',\n",
       "                                  'imputer_categorical__SubCategory'])])"
      ]
     },
     "execution_count": 12,
     "metadata": {},
     "output_type": "execute_result"
    }
   ],
   "source": [
    "# definfing the encoder for categorical and numerical cols\n",
    "encoder = ColumnTransformer([('scaler_numeric', StandardScaler(), prefixed_num_cols),\n",
    "                             ('ohe_encoder', OneHotEncoder(sparse=False), prefixed_ohe_cols),\n",
    "                             ('target_encoders', TargetEncoder(), prefixed_target_encod_cols)\n",
    "                            ])\n",
    "encoder.set_output(transform=\"pandas\")"
   ]
  },
  {
   "cell_type": "markdown",
   "id": "694130e3-ef0b-40ad-aa3b-bceacac8968f",
   "metadata": {
    "jp-MarkdownHeadingCollapsed": true
   },
   "source": [
    "#### Preprocessor pipeline"
   ]
  },
  {
   "cell_type": "code",
   "execution_count": 13,
   "id": "405e22bd-34e6-4f25-b035-cf19a41034bd",
   "metadata": {},
   "outputs": [
    {
     "data": {
      "text/html": [
       "<style>#sk-container-id-3 {color: black;background-color: white;}#sk-container-id-3 pre{padding: 0;}#sk-container-id-3 div.sk-toggleable {background-color: white;}#sk-container-id-3 label.sk-toggleable__label {cursor: pointer;display: block;width: 100%;margin-bottom: 0;padding: 0.3em;box-sizing: border-box;text-align: center;}#sk-container-id-3 label.sk-toggleable__label-arrow:before {content: \"▸\";float: left;margin-right: 0.25em;color: #696969;}#sk-container-id-3 label.sk-toggleable__label-arrow:hover:before {color: black;}#sk-container-id-3 div.sk-estimator:hover label.sk-toggleable__label-arrow:before {color: black;}#sk-container-id-3 div.sk-toggleable__content {max-height: 0;max-width: 0;overflow: hidden;text-align: left;background-color: #f0f8ff;}#sk-container-id-3 div.sk-toggleable__content pre {margin: 0.2em;color: black;border-radius: 0.25em;background-color: #f0f8ff;}#sk-container-id-3 input.sk-toggleable__control:checked~div.sk-toggleable__content {max-height: 200px;max-width: 100%;overflow: auto;}#sk-container-id-3 input.sk-toggleable__control:checked~label.sk-toggleable__label-arrow:before {content: \"▾\";}#sk-container-id-3 div.sk-estimator input.sk-toggleable__control:checked~label.sk-toggleable__label {background-color: #d4ebff;}#sk-container-id-3 div.sk-label input.sk-toggleable__control:checked~label.sk-toggleable__label {background-color: #d4ebff;}#sk-container-id-3 input.sk-hidden--visually {border: 0;clip: rect(1px 1px 1px 1px);clip: rect(1px, 1px, 1px, 1px);height: 1px;margin: -1px;overflow: hidden;padding: 0;position: absolute;width: 1px;}#sk-container-id-3 div.sk-estimator {font-family: monospace;background-color: #f0f8ff;border: 1px dotted black;border-radius: 0.25em;box-sizing: border-box;margin-bottom: 0.5em;}#sk-container-id-3 div.sk-estimator:hover {background-color: #d4ebff;}#sk-container-id-3 div.sk-parallel-item::after {content: \"\";width: 100%;border-bottom: 1px solid gray;flex-grow: 1;}#sk-container-id-3 div.sk-label:hover label.sk-toggleable__label {background-color: #d4ebff;}#sk-container-id-3 div.sk-serial::before {content: \"\";position: absolute;border-left: 1px solid gray;box-sizing: border-box;top: 0;bottom: 0;left: 50%;z-index: 0;}#sk-container-id-3 div.sk-serial {display: flex;flex-direction: column;align-items: center;background-color: white;padding-right: 0.2em;padding-left: 0.2em;position: relative;}#sk-container-id-3 div.sk-item {position: relative;z-index: 1;}#sk-container-id-3 div.sk-parallel {display: flex;align-items: stretch;justify-content: center;background-color: white;position: relative;}#sk-container-id-3 div.sk-item::before, #sk-container-id-3 div.sk-parallel-item::before {content: \"\";position: absolute;border-left: 1px solid gray;box-sizing: border-box;top: 0;bottom: 0;left: 50%;z-index: -1;}#sk-container-id-3 div.sk-parallel-item {display: flex;flex-direction: column;z-index: 1;position: relative;background-color: white;}#sk-container-id-3 div.sk-parallel-item:first-child::after {align-self: flex-end;width: 50%;}#sk-container-id-3 div.sk-parallel-item:last-child::after {align-self: flex-start;width: 50%;}#sk-container-id-3 div.sk-parallel-item:only-child::after {width: 0;}#sk-container-id-3 div.sk-dashed-wrapped {border: 1px dashed gray;margin: 0 0.4em 0.5em 0.4em;box-sizing: border-box;padding-bottom: 0.4em;background-color: white;}#sk-container-id-3 div.sk-label label {font-family: monospace;font-weight: bold;display: inline-block;line-height: 1.2em;}#sk-container-id-3 div.sk-label-container {text-align: center;}#sk-container-id-3 div.sk-container {/* jupyter's `normalize.less` sets `[hidden] { display: none; }` but bootstrap.min.css set `[hidden] { display: none !important; }` so we also need the `!important` here to be able to override the default hidden behavior on the sphinx rendered scikit-learn.org. See: https://github.com/scikit-learn/scikit-learn/issues/21755 */display: inline-block !important;position: relative;}#sk-container-id-3 div.sk-text-repr-fallback {display: none;}</style><div id=\"sk-container-id-3\" class=\"sk-top-container\"><div class=\"sk-text-repr-fallback\"><pre>Pipeline(steps=[(&#x27;imputer&#x27;,\n",
       "                 ColumnTransformer(transformers=[(&#x27;imputer_0&#x27;,\n",
       "                                                  SimpleImputer(fill_value=0,\n",
       "                                                                strategy=&#x27;constant&#x27;),\n",
       "                                                  [&#x27;days_active&#x27;, &#x27;R&#x27;, &#x27;F&#x27;, &#x27;M&#x27;,\n",
       "                                                   &#x27;add_to_cart_to_purchase_ratios&#x27;,\n",
       "                                                   &#x27;add_to_wishlist_to_purchase_ratios&#x27;,\n",
       "                                                   &#x27;click_wishlist_page_to_purchase_ratios&#x27;,\n",
       "                                                   &#x27;cart_to_purchase_ratios_category&#x27;,\n",
       "                                                   &#x27;cart_to_purchase_ratios_subcategory&#x27;,\n",
       "                                                   &#x27;wishlist_to_purcha...\n",
       "                                                   &#x27;imputer_0__click_wishlist_to_purchase_ratios_subcategory&#x27;,\n",
       "                                                   &#x27;imputer_0__product_view_to_purchase_ratios_category&#x27;,\n",
       "                                                   &#x27;imputer_0__product_view_to_purchase_ratios_subcategory&#x27;]),\n",
       "                                                 (&#x27;ohe_encoder&#x27;,\n",
       "                                                  OneHotEncoder(sparse=False),\n",
       "                                                  [&#x27;imputer_categorical__Loyalty&#x27;,\n",
       "                                                   &#x27;imputer_categorical__user_path&#x27;]),\n",
       "                                                 (&#x27;target_encoders&#x27;,\n",
       "                                                  TargetEncoder(),\n",
       "                                                  [&#x27;imputer_categorical__Category&#x27;,\n",
       "                                                   &#x27;imputer_categorical__SubCategory&#x27;])]))])</pre><b>In a Jupyter environment, please rerun this cell to show the HTML representation or trust the notebook. <br />On GitHub, the HTML representation is unable to render, please try loading this page with nbviewer.org.</b></div><div class=\"sk-container\" hidden><div class=\"sk-item sk-dashed-wrapped\"><div class=\"sk-label-container\"><div class=\"sk-label sk-toggleable\"><input class=\"sk-toggleable__control sk-hidden--visually\" id=\"sk-estimator-id-15\" type=\"checkbox\" ><label for=\"sk-estimator-id-15\" class=\"sk-toggleable__label sk-toggleable__label-arrow\">Pipeline</label><div class=\"sk-toggleable__content\"><pre>Pipeline(steps=[(&#x27;imputer&#x27;,\n",
       "                 ColumnTransformer(transformers=[(&#x27;imputer_0&#x27;,\n",
       "                                                  SimpleImputer(fill_value=0,\n",
       "                                                                strategy=&#x27;constant&#x27;),\n",
       "                                                  [&#x27;days_active&#x27;, &#x27;R&#x27;, &#x27;F&#x27;, &#x27;M&#x27;,\n",
       "                                                   &#x27;add_to_cart_to_purchase_ratios&#x27;,\n",
       "                                                   &#x27;add_to_wishlist_to_purchase_ratios&#x27;,\n",
       "                                                   &#x27;click_wishlist_page_to_purchase_ratios&#x27;,\n",
       "                                                   &#x27;cart_to_purchase_ratios_category&#x27;,\n",
       "                                                   &#x27;cart_to_purchase_ratios_subcategory&#x27;,\n",
       "                                                   &#x27;wishlist_to_purcha...\n",
       "                                                   &#x27;imputer_0__click_wishlist_to_purchase_ratios_subcategory&#x27;,\n",
       "                                                   &#x27;imputer_0__product_view_to_purchase_ratios_category&#x27;,\n",
       "                                                   &#x27;imputer_0__product_view_to_purchase_ratios_subcategory&#x27;]),\n",
       "                                                 (&#x27;ohe_encoder&#x27;,\n",
       "                                                  OneHotEncoder(sparse=False),\n",
       "                                                  [&#x27;imputer_categorical__Loyalty&#x27;,\n",
       "                                                   &#x27;imputer_categorical__user_path&#x27;]),\n",
       "                                                 (&#x27;target_encoders&#x27;,\n",
       "                                                  TargetEncoder(),\n",
       "                                                  [&#x27;imputer_categorical__Category&#x27;,\n",
       "                                                   &#x27;imputer_categorical__SubCategory&#x27;])]))])</pre></div></div></div><div class=\"sk-serial\"><div class=\"sk-item sk-dashed-wrapped\"><div class=\"sk-label-container\"><div class=\"sk-label sk-toggleable\"><input class=\"sk-toggleable__control sk-hidden--visually\" id=\"sk-estimator-id-16\" type=\"checkbox\" ><label for=\"sk-estimator-id-16\" class=\"sk-toggleable__label sk-toggleable__label-arrow\">imputer: ColumnTransformer</label><div class=\"sk-toggleable__content\"><pre>ColumnTransformer(transformers=[(&#x27;imputer_0&#x27;,\n",
       "                                 SimpleImputer(fill_value=0,\n",
       "                                               strategy=&#x27;constant&#x27;),\n",
       "                                 [&#x27;days_active&#x27;, &#x27;R&#x27;, &#x27;F&#x27;, &#x27;M&#x27;,\n",
       "                                  &#x27;add_to_cart_to_purchase_ratios&#x27;,\n",
       "                                  &#x27;add_to_wishlist_to_purchase_ratios&#x27;,\n",
       "                                  &#x27;click_wishlist_page_to_purchase_ratios&#x27;,\n",
       "                                  &#x27;cart_to_purchase_ratios_category&#x27;,\n",
       "                                  &#x27;cart_to_purchase_ratios_subcategory&#x27;,\n",
       "                                  &#x27;wishlist_to_purchase_ratios_category&#x27;,\n",
       "                                  &#x27;wishli...\n",
       "                                  &#x27;click_wishlist_to_purchase_ratios_category&#x27;,\n",
       "                                  &#x27;click_wishlist_to_purchase_ratios_subcategory&#x27;,\n",
       "                                  &#x27;product_view_to_purchase_ratios_category&#x27;,\n",
       "                                  &#x27;product_view_to_purchase_ratios_subcategory&#x27;]),\n",
       "                                (&#x27;imputer_minus_1&#x27;,\n",
       "                                 SimpleImputer(fill_value=-1,\n",
       "                                               strategy=&#x27;constant&#x27;),\n",
       "                                 [&#x27;Avg Purchase Gap&#x27;]),\n",
       "                                (&#x27;imputer_categorical&#x27;,\n",
       "                                 SimpleImputer(strategy=&#x27;most_frequent&#x27;),\n",
       "                                 [&#x27;Category&#x27;, &#x27;SubCategory&#x27;, &#x27;Loyalty&#x27;,\n",
       "                                  &#x27;user_path&#x27;])])</pre></div></div></div><div class=\"sk-parallel\"><div class=\"sk-parallel-item\"><div class=\"sk-item\"><div class=\"sk-label-container\"><div class=\"sk-label sk-toggleable\"><input class=\"sk-toggleable__control sk-hidden--visually\" id=\"sk-estimator-id-17\" type=\"checkbox\" ><label for=\"sk-estimator-id-17\" class=\"sk-toggleable__label sk-toggleable__label-arrow\">imputer_0</label><div class=\"sk-toggleable__content\"><pre>[&#x27;days_active&#x27;, &#x27;R&#x27;, &#x27;F&#x27;, &#x27;M&#x27;, &#x27;add_to_cart_to_purchase_ratios&#x27;, &#x27;add_to_wishlist_to_purchase_ratios&#x27;, &#x27;click_wishlist_page_to_purchase_ratios&#x27;, &#x27;cart_to_purchase_ratios_category&#x27;, &#x27;cart_to_purchase_ratios_subcategory&#x27;, &#x27;wishlist_to_purchase_ratios_category&#x27;, &#x27;wishlist_to_purchase_ratios_subcategory&#x27;, &#x27;click_wishlist_to_purchase_ratios_category&#x27;, &#x27;click_wishlist_to_purchase_ratios_subcategory&#x27;, &#x27;product_view_to_purchase_ratios_category&#x27;, &#x27;product_view_to_purchase_ratios_subcategory&#x27;]</pre></div></div></div><div class=\"sk-serial\"><div class=\"sk-item\"><div class=\"sk-estimator sk-toggleable\"><input class=\"sk-toggleable__control sk-hidden--visually\" id=\"sk-estimator-id-18\" type=\"checkbox\" ><label for=\"sk-estimator-id-18\" class=\"sk-toggleable__label sk-toggleable__label-arrow\">SimpleImputer</label><div class=\"sk-toggleable__content\"><pre>SimpleImputer(fill_value=0, strategy=&#x27;constant&#x27;)</pre></div></div></div></div></div></div><div class=\"sk-parallel-item\"><div class=\"sk-item\"><div class=\"sk-label-container\"><div class=\"sk-label sk-toggleable\"><input class=\"sk-toggleable__control sk-hidden--visually\" id=\"sk-estimator-id-19\" type=\"checkbox\" ><label for=\"sk-estimator-id-19\" class=\"sk-toggleable__label sk-toggleable__label-arrow\">imputer_minus_1</label><div class=\"sk-toggleable__content\"><pre>[&#x27;Avg Purchase Gap&#x27;]</pre></div></div></div><div class=\"sk-serial\"><div class=\"sk-item\"><div class=\"sk-estimator sk-toggleable\"><input class=\"sk-toggleable__control sk-hidden--visually\" id=\"sk-estimator-id-20\" type=\"checkbox\" ><label for=\"sk-estimator-id-20\" class=\"sk-toggleable__label sk-toggleable__label-arrow\">SimpleImputer</label><div class=\"sk-toggleable__content\"><pre>SimpleImputer(fill_value=-1, strategy=&#x27;constant&#x27;)</pre></div></div></div></div></div></div><div class=\"sk-parallel-item\"><div class=\"sk-item\"><div class=\"sk-label-container\"><div class=\"sk-label sk-toggleable\"><input class=\"sk-toggleable__control sk-hidden--visually\" id=\"sk-estimator-id-21\" type=\"checkbox\" ><label for=\"sk-estimator-id-21\" class=\"sk-toggleable__label sk-toggleable__label-arrow\">imputer_categorical</label><div class=\"sk-toggleable__content\"><pre>[&#x27;Category&#x27;, &#x27;SubCategory&#x27;, &#x27;Loyalty&#x27;, &#x27;user_path&#x27;]</pre></div></div></div><div class=\"sk-serial\"><div class=\"sk-item\"><div class=\"sk-estimator sk-toggleable\"><input class=\"sk-toggleable__control sk-hidden--visually\" id=\"sk-estimator-id-22\" type=\"checkbox\" ><label for=\"sk-estimator-id-22\" class=\"sk-toggleable__label sk-toggleable__label-arrow\">SimpleImputer</label><div class=\"sk-toggleable__content\"><pre>SimpleImputer(strategy=&#x27;most_frequent&#x27;)</pre></div></div></div></div></div></div></div></div><div class=\"sk-item sk-dashed-wrapped\"><div class=\"sk-label-container\"><div class=\"sk-label sk-toggleable\"><input class=\"sk-toggleable__control sk-hidden--visually\" id=\"sk-estimator-id-23\" type=\"checkbox\" ><label for=\"sk-estimator-id-23\" class=\"sk-toggleable__label sk-toggleable__label-arrow\">encoder: ColumnTransformer</label><div class=\"sk-toggleable__content\"><pre>ColumnTransformer(transformers=[(&#x27;scaler_numeric&#x27;, StandardScaler(),\n",
       "                                 [&#x27;imputer_0__days_active&#x27;, &#x27;imputer_0__R&#x27;,\n",
       "                                  &#x27;imputer_0__F&#x27;, &#x27;imputer_0__M&#x27;,\n",
       "                                  &#x27;imputer_minus_1__Avg Purchase Gap&#x27;,\n",
       "                                  &#x27;imputer_0__add_to_cart_to_purchase_ratios&#x27;,\n",
       "                                  &#x27;imputer_0__add_to_wishlist_to_purchase_ratios&#x27;,\n",
       "                                  &#x27;imputer_0__click_wishlist_page_to_purchase_ratios&#x27;,\n",
       "                                  &#x27;imputer_0__cart_to_purchase_ratio...\n",
       "                                  &#x27;imputer_0__click_wishlist_to_purchase_ratios_subcategory&#x27;,\n",
       "                                  &#x27;imputer_0__product_view_to_purchase_ratios_category&#x27;,\n",
       "                                  &#x27;imputer_0__product_view_to_purchase_ratios_subcategory&#x27;]),\n",
       "                                (&#x27;ohe_encoder&#x27;, OneHotEncoder(sparse=False),\n",
       "                                 [&#x27;imputer_categorical__Loyalty&#x27;,\n",
       "                                  &#x27;imputer_categorical__user_path&#x27;]),\n",
       "                                (&#x27;target_encoders&#x27;, TargetEncoder(),\n",
       "                                 [&#x27;imputer_categorical__Category&#x27;,\n",
       "                                  &#x27;imputer_categorical__SubCategory&#x27;])])</pre></div></div></div><div class=\"sk-parallel\"><div class=\"sk-parallel-item\"><div class=\"sk-item\"><div class=\"sk-label-container\"><div class=\"sk-label sk-toggleable\"><input class=\"sk-toggleable__control sk-hidden--visually\" id=\"sk-estimator-id-24\" type=\"checkbox\" ><label for=\"sk-estimator-id-24\" class=\"sk-toggleable__label sk-toggleable__label-arrow\">scaler_numeric</label><div class=\"sk-toggleable__content\"><pre>[&#x27;imputer_0__days_active&#x27;, &#x27;imputer_0__R&#x27;, &#x27;imputer_0__F&#x27;, &#x27;imputer_0__M&#x27;, &#x27;imputer_minus_1__Avg Purchase Gap&#x27;, &#x27;imputer_0__add_to_cart_to_purchase_ratios&#x27;, &#x27;imputer_0__add_to_wishlist_to_purchase_ratios&#x27;, &#x27;imputer_0__click_wishlist_page_to_purchase_ratios&#x27;, &#x27;imputer_0__cart_to_purchase_ratios_category&#x27;, &#x27;imputer_0__cart_to_purchase_ratios_subcategory&#x27;, &#x27;imputer_0__wishlist_to_purchase_ratios_category&#x27;, &#x27;imputer_0__wishlist_to_purchase_ratios_subcategory&#x27;, &#x27;imputer_0__click_wishlist_to_purchase_ratios_category&#x27;, &#x27;imputer_0__click_wishlist_to_purchase_ratios_subcategory&#x27;, &#x27;imputer_0__product_view_to_purchase_ratios_category&#x27;, &#x27;imputer_0__product_view_to_purchase_ratios_subcategory&#x27;]</pre></div></div></div><div class=\"sk-serial\"><div class=\"sk-item\"><div class=\"sk-estimator sk-toggleable\"><input class=\"sk-toggleable__control sk-hidden--visually\" id=\"sk-estimator-id-25\" type=\"checkbox\" ><label for=\"sk-estimator-id-25\" class=\"sk-toggleable__label sk-toggleable__label-arrow\">StandardScaler</label><div class=\"sk-toggleable__content\"><pre>StandardScaler()</pre></div></div></div></div></div></div><div class=\"sk-parallel-item\"><div class=\"sk-item\"><div class=\"sk-label-container\"><div class=\"sk-label sk-toggleable\"><input class=\"sk-toggleable__control sk-hidden--visually\" id=\"sk-estimator-id-26\" type=\"checkbox\" ><label for=\"sk-estimator-id-26\" class=\"sk-toggleable__label sk-toggleable__label-arrow\">ohe_encoder</label><div class=\"sk-toggleable__content\"><pre>[&#x27;imputer_categorical__Loyalty&#x27;, &#x27;imputer_categorical__user_path&#x27;]</pre></div></div></div><div class=\"sk-serial\"><div class=\"sk-item\"><div class=\"sk-estimator sk-toggleable\"><input class=\"sk-toggleable__control sk-hidden--visually\" id=\"sk-estimator-id-27\" type=\"checkbox\" ><label for=\"sk-estimator-id-27\" class=\"sk-toggleable__label sk-toggleable__label-arrow\">OneHotEncoder</label><div class=\"sk-toggleable__content\"><pre>OneHotEncoder(sparse=False)</pre></div></div></div></div></div></div><div class=\"sk-parallel-item\"><div class=\"sk-item\"><div class=\"sk-label-container\"><div class=\"sk-label sk-toggleable\"><input class=\"sk-toggleable__control sk-hidden--visually\" id=\"sk-estimator-id-28\" type=\"checkbox\" ><label for=\"sk-estimator-id-28\" class=\"sk-toggleable__label sk-toggleable__label-arrow\">target_encoders</label><div class=\"sk-toggleable__content\"><pre>[&#x27;imputer_categorical__Category&#x27;, &#x27;imputer_categorical__SubCategory&#x27;]</pre></div></div></div><div class=\"sk-serial\"><div class=\"sk-item\"><div class=\"sk-estimator sk-toggleable\"><input class=\"sk-toggleable__control sk-hidden--visually\" id=\"sk-estimator-id-29\" type=\"checkbox\" ><label for=\"sk-estimator-id-29\" class=\"sk-toggleable__label sk-toggleable__label-arrow\">TargetEncoder</label><div class=\"sk-toggleable__content\"><pre>TargetEncoder()</pre></div></div></div></div></div></div></div></div></div></div></div></div>"
      ],
      "text/plain": [
       "Pipeline(steps=[('imputer',\n",
       "                 ColumnTransformer(transformers=[('imputer_0',\n",
       "                                                  SimpleImputer(fill_value=0,\n",
       "                                                                strategy='constant'),\n",
       "                                                  ['days_active', 'R', 'F', 'M',\n",
       "                                                   'add_to_cart_to_purchase_ratios',\n",
       "                                                   'add_to_wishlist_to_purchase_ratios',\n",
       "                                                   'click_wishlist_page_to_purchase_ratios',\n",
       "                                                   'cart_to_purchase_ratios_category',\n",
       "                                                   'cart_to_purchase_ratios_subcategory',\n",
       "                                                   'wishlist_to_purcha...\n",
       "                                                   'imputer_0__click_wishlist_to_purchase_ratios_subcategory',\n",
       "                                                   'imputer_0__product_view_to_purchase_ratios_category',\n",
       "                                                   'imputer_0__product_view_to_purchase_ratios_subcategory']),\n",
       "                                                 ('ohe_encoder',\n",
       "                                                  OneHotEncoder(sparse=False),\n",
       "                                                  ['imputer_categorical__Loyalty',\n",
       "                                                   'imputer_categorical__user_path']),\n",
       "                                                 ('target_encoders',\n",
       "                                                  TargetEncoder(),\n",
       "                                                  ['imputer_categorical__Category',\n",
       "                                                   'imputer_categorical__SubCategory'])]))])"
      ]
     },
     "execution_count": 13,
     "metadata": {},
     "output_type": "execute_result"
    }
   ],
   "source": [
    "# creating a pipeline which consists of imputer followed by encoder\n",
    "preprocessor = Pipeline([ ('imputer', imputer),\n",
    "                          ('encoder',encoder)\n",
    "                        ])\n",
    "preprocessor.set_output(transform=\"pandas\")"
   ]
  },
  {
   "cell_type": "code",
   "execution_count": 14,
   "id": "ce731ee1-9b93-4afb-a4f7-8f5d3d40ad8d",
   "metadata": {},
   "outputs": [
    {
     "name": "stderr",
     "output_type": "stream",
     "text": [
      "C:\\Users\\Pradyu\\AppData\\Local\\Programs\\Python\\Python311\\Lib\\site-packages\\sklearn\\preprocessing\\_encoders.py:828: FutureWarning: `sparse` was renamed to `sparse_output` in version 1.2 and will be removed in 1.4. `sparse_output` is ignored unless you leave `sparse` to its default value.\n",
      "  warnings.warn(\n"
     ]
    }
   ],
   "source": [
    "# applying the preprocessor pipeline to the x_train and x_test\n",
    "x_train = preprocessor.fit_transform(x_train,y_train)\n",
    "x_test  = preprocessor.transform(x_test)"
   ]
  },
  {
   "cell_type": "markdown",
   "id": "f99195c4-9683-4d58-a35a-5429a5912d39",
   "metadata": {},
   "source": [
    "#### Training"
   ]
  },
  {
   "cell_type": "code",
   "execution_count": 15,
   "id": "cf96ef26-e314-4c7b-b3dd-35303e52d4ce",
   "metadata": {},
   "outputs": [
    {
     "data": {
      "text/html": [
       "<style>#sk-container-id-4 {color: black;background-color: white;}#sk-container-id-4 pre{padding: 0;}#sk-container-id-4 div.sk-toggleable {background-color: white;}#sk-container-id-4 label.sk-toggleable__label {cursor: pointer;display: block;width: 100%;margin-bottom: 0;padding: 0.3em;box-sizing: border-box;text-align: center;}#sk-container-id-4 label.sk-toggleable__label-arrow:before {content: \"▸\";float: left;margin-right: 0.25em;color: #696969;}#sk-container-id-4 label.sk-toggleable__label-arrow:hover:before {color: black;}#sk-container-id-4 div.sk-estimator:hover label.sk-toggleable__label-arrow:before {color: black;}#sk-container-id-4 div.sk-toggleable__content {max-height: 0;max-width: 0;overflow: hidden;text-align: left;background-color: #f0f8ff;}#sk-container-id-4 div.sk-toggleable__content pre {margin: 0.2em;color: black;border-radius: 0.25em;background-color: #f0f8ff;}#sk-container-id-4 input.sk-toggleable__control:checked~div.sk-toggleable__content {max-height: 200px;max-width: 100%;overflow: auto;}#sk-container-id-4 input.sk-toggleable__control:checked~label.sk-toggleable__label-arrow:before {content: \"▾\";}#sk-container-id-4 div.sk-estimator input.sk-toggleable__control:checked~label.sk-toggleable__label {background-color: #d4ebff;}#sk-container-id-4 div.sk-label input.sk-toggleable__control:checked~label.sk-toggleable__label {background-color: #d4ebff;}#sk-container-id-4 input.sk-hidden--visually {border: 0;clip: rect(1px 1px 1px 1px);clip: rect(1px, 1px, 1px, 1px);height: 1px;margin: -1px;overflow: hidden;padding: 0;position: absolute;width: 1px;}#sk-container-id-4 div.sk-estimator {font-family: monospace;background-color: #f0f8ff;border: 1px dotted black;border-radius: 0.25em;box-sizing: border-box;margin-bottom: 0.5em;}#sk-container-id-4 div.sk-estimator:hover {background-color: #d4ebff;}#sk-container-id-4 div.sk-parallel-item::after {content: \"\";width: 100%;border-bottom: 1px solid gray;flex-grow: 1;}#sk-container-id-4 div.sk-label:hover label.sk-toggleable__label {background-color: #d4ebff;}#sk-container-id-4 div.sk-serial::before {content: \"\";position: absolute;border-left: 1px solid gray;box-sizing: border-box;top: 0;bottom: 0;left: 50%;z-index: 0;}#sk-container-id-4 div.sk-serial {display: flex;flex-direction: column;align-items: center;background-color: white;padding-right: 0.2em;padding-left: 0.2em;position: relative;}#sk-container-id-4 div.sk-item {position: relative;z-index: 1;}#sk-container-id-4 div.sk-parallel {display: flex;align-items: stretch;justify-content: center;background-color: white;position: relative;}#sk-container-id-4 div.sk-item::before, #sk-container-id-4 div.sk-parallel-item::before {content: \"\";position: absolute;border-left: 1px solid gray;box-sizing: border-box;top: 0;bottom: 0;left: 50%;z-index: -1;}#sk-container-id-4 div.sk-parallel-item {display: flex;flex-direction: column;z-index: 1;position: relative;background-color: white;}#sk-container-id-4 div.sk-parallel-item:first-child::after {align-self: flex-end;width: 50%;}#sk-container-id-4 div.sk-parallel-item:last-child::after {align-self: flex-start;width: 50%;}#sk-container-id-4 div.sk-parallel-item:only-child::after {width: 0;}#sk-container-id-4 div.sk-dashed-wrapped {border: 1px dashed gray;margin: 0 0.4em 0.5em 0.4em;box-sizing: border-box;padding-bottom: 0.4em;background-color: white;}#sk-container-id-4 div.sk-label label {font-family: monospace;font-weight: bold;display: inline-block;line-height: 1.2em;}#sk-container-id-4 div.sk-label-container {text-align: center;}#sk-container-id-4 div.sk-container {/* jupyter's `normalize.less` sets `[hidden] { display: none; }` but bootstrap.min.css set `[hidden] { display: none !important; }` so we also need the `!important` here to be able to override the default hidden behavior on the sphinx rendered scikit-learn.org. See: https://github.com/scikit-learn/scikit-learn/issues/21755 */display: inline-block !important;position: relative;}#sk-container-id-4 div.sk-text-repr-fallback {display: none;}</style><div id=\"sk-container-id-4\" class=\"sk-top-container\"><div class=\"sk-text-repr-fallback\"><pre>LogisticRegression()</pre><b>In a Jupyter environment, please rerun this cell to show the HTML representation or trust the notebook. <br />On GitHub, the HTML representation is unable to render, please try loading this page with nbviewer.org.</b></div><div class=\"sk-container\" hidden><div class=\"sk-item\"><div class=\"sk-estimator sk-toggleable\"><input class=\"sk-toggleable__control sk-hidden--visually\" id=\"sk-estimator-id-30\" type=\"checkbox\" checked><label for=\"sk-estimator-id-30\" class=\"sk-toggleable__label sk-toggleable__label-arrow\">LogisticRegression</label><div class=\"sk-toggleable__content\"><pre>LogisticRegression()</pre></div></div></div></div></div>"
      ],
      "text/plain": [
       "LogisticRegression()"
      ]
     },
     "execution_count": 15,
     "metadata": {},
     "output_type": "execute_result"
    }
   ],
   "source": [
    "# defining the logistic regression model\n",
    "model = LogisticRegression()\n",
    "\n",
    "# fitting the model\n",
    "model.fit(x_train,y_train)"
   ]
  },
  {
   "cell_type": "code",
   "execution_count": 16,
   "id": "9a809323-08ca-4e30-846c-093a7e6f5b92",
   "metadata": {},
   "outputs": [],
   "source": [
    "# Predict on test data\n",
    "y_pred = model.predict(x_test)"
   ]
  },
  {
   "cell_type": "code",
   "execution_count": 20,
   "id": "56f323f0-237a-4783-94b8-5d880f331c77",
   "metadata": {},
   "outputs": [
    {
     "data": {
      "text/plain": [
       "0.8787878787878789"
      ]
     },
     "execution_count": 20,
     "metadata": {},
     "output_type": "execute_result"
    }
   ],
   "source": [
    "f1_score(y_test,y_pred)"
   ]
  },
  {
   "cell_type": "code",
   "execution_count": 21,
   "id": "05a58186-73b5-413b-aa7e-5a4f79d0d2e9",
   "metadata": {},
   "outputs": [
    {
     "name": "stdout",
     "output_type": "stream",
     "text": [
      "Confusion Matrix:\n",
      "[[16  7]\n",
      " [ 1 29]]\n"
     ]
    },
    {
     "data": {
      "text/plain": [
       "(211, 33)"
      ]
     },
     "execution_count": 21,
     "metadata": {},
     "output_type": "execute_result"
    }
   ],
   "source": [
    "from sklearn.metrics import confusion_matrix\n",
    "\n",
    "# Assuming y_test contains the true labels and y_pred contains the predicted labels\n",
    "conf_matrix = confusion_matrix(y_test, y_pred)\n",
    "\n",
    "print(\"Confusion Matrix:\")\n",
    "print(conf_matrix)\n",
    "x_train.shape"
   ]
  },
  {
   "cell_type": "code",
   "execution_count": 27,
   "id": "0e668e69-a40b-483d-a536-480771a9ba44",
   "metadata": {},
   "outputs": [
    {
     "data": {
      "image/png": "[encoded data removed]",
      "text/plain": [
       "<Figure size 500x300 with 2 Axes>"
      ]
     },
     "metadata": {},
     "output_type": "display_data"
    }
   ],
   "source": [
    "import matplotlib.pyplot as plt\n",
    "import seaborn as sns\n",
    "\n",
    "# Plotting the confusion matrix as a heatmap\n",
    "plt.figure(figsize=(5, 3))\n",
    "sns.heatmap(conf_matrix, annot=True, cmap='Blues', fmt='g')\n",
    "plt.xlabel('Predicted labels')\n",
    "plt.ylabel('True labels')\n",
    "plt.title('Confusion Matrix')\n",
    "plt.show()\n"
   ]
  },
  {
   "cell_type": "code",
   "execution_count": null,
   "id": "2f2e5923-1f4f-4581-96ae-958f9731eb3c",
   "metadata": {},
   "outputs": [],
   "source": []
  }
 ],
 "metadata": {
  "kernelspec": {
   "display_name": "Python 3 (ipykernel)",
   "language": "python",
   "name": "python3"
  },
  "language_info": {
   "codemirror_mode": {
    "name": "ipython",
    "version": 3
   },
   "file_extension": ".py",
   "mimetype": "text/x-python",
   "name": "python",
   "nbconvert_exporter": "python",
   "pygments_lexer": "ipython3",
   "version": "3.11.2"
  }
 },
 "nbformat": 4,
 "nbformat_minor": 5
}
